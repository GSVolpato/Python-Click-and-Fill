{
 "cells": [
  {
   "cell_type": "markdown",
   "metadata": {},
   "source": [
    "This file treats the spreadsheet to be used in the project."
   ]
  },
  {
   "cell_type": "code",
   "execution_count": 2,
   "metadata": {},
   "outputs": [
    {
     "name": "stdout",
     "output_type": "stream",
     "text": [
      "Images removed successfully.\n"
     ]
    }
   ],
   "source": [
    "# Remove Images\n",
    "\n",
    "from openpyxl import load_workbook\n",
    "\n",
    "# Load the workbook and select the worksheet\n",
    "workbook_path = 'mySpreadsheet.xlsx'\n",
    "wb = load_workbook(workbook_path)\n",
    "\n",
    "# Iterate over all the sheets in the workbook\n",
    "for sheet in wb.sheetnames:\n",
    "    ws = wb[sheet]\n",
    "    \n",
    "    # Access the images property and clear the images list\n",
    "    ws._images = []\n",
    "\n",
    "# Save the workbook\n",
    "wb.save(workbook_path)\n",
    "\n",
    "print(\"Images removed successfully.\")\n"
   ]
  },
  {
   "cell_type": "code",
   "execution_count": 3,
   "metadata": {},
   "outputs": [
    {
     "name": "stdout",
     "output_type": "stream",
     "text": [
      "All cells unmerged successfully.\n"
     ]
    }
   ],
   "source": [
    "# Unmerge cells\n",
    "\n",
    "from openpyxl import load_workbook\n",
    "\n",
    "# Load the workbook\n",
    "workbook_path = 'mySpreadsheet.xlsx'\n",
    "wb = load_workbook(workbook_path)\n",
    "\n",
    "# Iterate over all the sheets in the workbook\n",
    "for sheet in wb.sheetnames:\n",
    "    ws = wb[sheet]\n",
    "    \n",
    "    # Collect a list of merged cells\n",
    "    merged_cells_list = []\n",
    "    for merged_cell in ws.merged_cells.ranges:\n",
    "        merged_cells_list.append(merged_cell)\n",
    "    \n",
    "    # Unmerge all collected cells\n",
    "    for merged_cell in merged_cells_list:\n",
    "        ws.unmerge_cells(str(merged_cell))\n",
    "\n",
    "# Save the workbook\n",
    "wb.save(workbook_path)\n",
    "\n",
    "print(\"All cells unmerged successfully.\")\n"
   ]
  },
  {
   "cell_type": "code",
   "execution_count": 4,
   "metadata": {},
   "outputs": [
    {
     "name": "stdout",
     "output_type": "stream",
     "text": [
      "First 4 rows removed successfully.\n"
     ]
    }
   ],
   "source": [
    "# remove first 4 rows\n",
    "\n",
    "from openpyxl import load_workbook\n",
    "\n",
    "# Load the workbook and select the worksheet\n",
    "workbook_path = 'mySpreadsheet.xlsx'\n",
    "wb = load_workbook(workbook_path)\n",
    "\n",
    "# Iterate over all the sheets in the workbook\n",
    "for sheet in wb.sheetnames:\n",
    "    ws = wb[sheet]\n",
    "    \n",
    "    # Delete the first 4 rows\n",
    "    ws.delete_rows(1, 4)\n",
    "\n",
    "# Save the workbook\n",
    "wb.save(workbook_path)\n",
    "\n",
    "print(\"First 4 rows removed successfully.\")\n"
   ]
  },
  {
   "cell_type": "code",
   "execution_count": 5,
   "metadata": {},
   "outputs": [
    {
     "name": "stdout",
     "output_type": "stream",
     "text": [
      "Last 12 rows removed successfully.\n"
     ]
    }
   ],
   "source": [
    "# Remove last 12 rows\n",
    "\n",
    "from openpyxl import load_workbook\n",
    "\n",
    "# Load the workbook\n",
    "workbook_path = 'mySpreadsheet.xlsx'\n",
    "wb = load_workbook(workbook_path)\n",
    "\n",
    "# Iterate over all the sheets in the workbook\n",
    "for sheet in wb.sheetnames:\n",
    "    ws = wb[sheet]\n",
    "    \n",
    "    # Determine the last row with data\n",
    "    last_row = ws.max_row\n",
    "    \n",
    "    # Delete the last 12 rows\n",
    "    if last_row >= 12:\n",
    "        ws.delete_rows(last_row - 11, 12)  # Delete 12 rows starting from (last_row - 11)\n",
    "\n",
    "# Save the workbook\n",
    "wb.save(workbook_path)\n",
    "\n",
    "print(\"Last 12 rows removed successfully.\")\n"
   ]
  },
  {
   "cell_type": "code",
   "execution_count": 6,
   "metadata": {},
   "outputs": [
    {
     "name": "stdout",
     "output_type": "stream",
     "text": [
      "Columns added successfully.\n"
     ]
    }
   ],
   "source": [
    "# ADD REMAINING DATA TO THE SPREADSHEET\n",
    "\n",
    "import pandas as pd\n",
    "\n",
    "# Read the input Excel file\n",
    "df = pd.read_excel('mySpreadsheet.xlsx')\n",
    "\n",
    "# Add additional columns\n",
    "df['FORNECEDOR'] = '1148632'\n",
    "df['AUTORIZADOR'] = '138245891'\n",
    "df['NF'] = '2687453'\n",
    "df['DATANF'] = '16122024'\n",
    "df['ANOEMPENHO'] = '2024'\n",
    "df['EMPENHO'] = '873'\n",
    "\n",
    "# Save the modified DataFrame back to the Excel file\n",
    "df.to_excel('mySpreadsheet.xlsx', index=False)\n",
    "\n",
    "print(\"Columns added successfully.\")"
   ]
  },
  {
   "cell_type": "code",
   "execution_count": 7,
   "metadata": {},
   "outputs": [
    {
     "name": "stdout",
     "output_type": "stream",
     "text": [
      "NCOMB added successfully.\n"
     ]
    }
   ],
   "source": [
    "# ADD NCOMB\n",
    "\n",
    "import pandas as pd\n",
    "\n",
    "# Define a mapping for NCOMB values\n",
    "ncomb_mapping = {\n",
    "    'ÁLCOOL': '01',\n",
    "    'GASOLINA': '02',\n",
    "    'DIESEL': '03',\n",
    "    'DIESEL S10': '09'\n",
    "}\n",
    "\n",
    "# Read the input Excel file\n",
    "df = pd.read_excel('mySpreadsheet.xlsx')\n",
    "\n",
    "# Map NCOMB values\n",
    "df['NCOMB'] = df['Combustível/Serviço'].map(ncomb_mapping)\n",
    "\n",
    "# Save the modified DataFrame back to the Excel file\n",
    "df.to_excel('mySpreadsheet.xlsx', index=False)\n",
    "\n",
    "print(\"NCOMB added successfully.\")"
   ]
  },
  {
   "cell_type": "code",
   "execution_count": 8,
   "metadata": {},
   "outputs": [
    {
     "name": "stdout",
     "output_type": "stream",
     "text": [
      "Hyphens removed successfully.\n"
     ]
    }
   ],
   "source": [
    "# Remove hyphens from 'Placa'\n",
    "\n",
    "import pandas as pd\n",
    "\n",
    "# Remove hyphens from 'Placa'\n",
    "df['Placa'] = df['Placa'].str.replace('-', '')\n",
    "\n",
    "# Save the modified DataFrame back to the Excel file\n",
    "df.to_excel('mySpreadsheet.xlsx', index=False)\n",
    "\n",
    "print(\"Hyphens removed successfully.\")"
   ]
  },
  {
   "cell_type": "code",
   "execution_count": 12,
   "metadata": {},
   "outputs": [
    {
     "name": "stdout",
     "output_type": "stream",
     "text": [
      "['RUS1F01' 'RVK4B67' 'SIW1F18' 'QPH0485' 'SFZ0E92' 'SYE7G59' 'SIA5B96'\n",
      " 'OQQ2855' 'SHY6F33' 'QOQ0550' 'QOJ8380' 'NLE2499' 'SHY6F25' 'HMN1022'\n",
      " 'RVK4F08' 'SHW2I82' 'SIU7C01' 'QNO0603' 'SYE7G86' 'SHY6F24' 'SYE7G76'\n",
      " 'SIW1F21' 'HMN8135' 'PVI4672' 'QPH0479' 'SHZ1J09' 'QNB5054' 'HMH7528'\n",
      " 'PVS5554' 'SHY6F35' 'QXM5038' 'QMT2925' 'SHY5E18' 'QOJ9160' 'SIA2G88'\n",
      " 'RFV5F43' 'QUJ2444' 'SIW1F13' 'HMN8352' 'QPD3538' 'SHD2G36' 'SGA7E56'\n",
      " 'HEM0001' 'SHY5E17' 'QPS9104' 'QMT2926' 'PVS5558' 'JKH8653' 'QPW3207'\n",
      " 'SIQ6I43' 'PUV3317' 'SIQ6I50' 'QXB4065']\n",
      "Number of unique 'Placa' values: 53\n"
     ]
    }
   ],
   "source": [
    "# Unique 'Placa' values \n",
    "\n",
    "import pandas as pd\n",
    "\n",
    "# Step 2: Load the Excel file into a DataFrame\n",
    "file_path = 'mySpreadsheet.xlsx'  # Replace with your actual file path\n",
    "df = pd.read_excel(file_path)\n",
    "\n",
    "# Step 3: Extract the unique values from the 'Placa' column\n",
    "unique_values = df['Placa'].unique()\n",
    "\n",
    "# Print the unique values\n",
    "print(unique_values)\n",
    "\n",
    "# Print the number of unique 'Placa' values\n",
    "print(f\"Number of unique 'Placa' values: {len(unique_values)}\")"
   ]
  },
  {
   "cell_type": "code",
   "execution_count": 10,
   "metadata": {},
   "outputs": [
    {
     "name": "stdout",
     "output_type": "stream",
     "text": [
      "COR0D00 REMOVED: 1\n",
      "COR0000 REMOVED: 0\n",
      "FUM0001 REMOVED: 0\n",
      "SJC3A40 REMOVED: 0\n",
      "HOS0001 REMOVED: 0\n"
     ]
    }
   ],
   "source": [
    "# Remove rows containing COR0D00 FUM0001 SHZ1J09 SJC3A40\n",
    "\n",
    "import pandas as pd\n",
    "\n",
    "# Read the input Excel file\n",
    "df = pd.read_excel('mySpreadsheet.xlsx')\n",
    "\n",
    "# Function to remove rows and count how many were removed\n",
    "def remove_and_count(df, pattern):\n",
    "    initial_count = len(df)\n",
    "    df = df[~df.apply(lambda row: row.astype(str).str.contains(pattern).any(), axis=1)]\n",
    "    removed_count = initial_count - len(df)\n",
    "    print(f'{pattern} REMOVED: {removed_count}')\n",
    "    return df\n",
    "\n",
    "\n",
    "df = remove_and_count(df, 'COR0D00')\n",
    "df = remove_and_count(df, 'COR0000')\n",
    "df = remove_and_count(df, 'FUM0001')\n",
    "df = remove_and_count(df, 'SJC3A40')\n",
    "df = remove_and_count(df, 'HOS0001')\n",
    "\n",
    "# Save the modified DataFrame back to the Excel file\n",
    "df.to_excel('mySpreadsheet.xlsx', index=False)"
   ]
  },
  {
   "cell_type": "code",
   "execution_count": 13,
   "metadata": {},
   "outputs": [],
   "source": [
    "# Replace . with , in 'Qtde (L)' and 'Preco Unitário'\n",
    "\n",
    "import pandas as pd\n",
    "\n",
    "df['Qtde (L)'] = df['Qtde (L)'].astype(str).str.replace('.', ',')\n",
    "df['Preco Unitário'] = df['Preco Unitário'].astype(str).str.replace('.', ',')\n",
    "\n",
    "# Save the modified DataFrame back to the Excel file\n",
    "df.to_excel('mySpreadsheet.xlsx', index=False)"
   ]
  },
  {
   "cell_type": "code",
   "execution_count": 14,
   "metadata": {},
   "outputs": [],
   "source": [
    "# ADD INDEX TO THE SPREADSHEET\n",
    "\n",
    "import pandas as pd\n",
    "df = pd.read_excel('mySpreadsheet.xlsx')\n",
    "# Add a new column 'Index'\n",
    "df['Index'] = range(5943, len(df) + 5943)\n",
    "\n",
    "# Save the modified DataFrame back to the Excel file\n",
    "df.to_excel('mySpreadsheet.xlsx', index=False)"
   ]
  },
  {
   "cell_type": "code",
   "execution_count": 15,
   "metadata": {},
   "outputs": [],
   "source": [
    "# Split 'Data/Hora' into 'Data' and 'Hora'\n",
    "\n",
    "import pandas as pd\n",
    "\n",
    "# Read the input Excel file\n",
    "df = pd.read_excel('mySpreadsheet.xlsx')\n",
    "df[['Data', 'Hora']] = df['Data/Hora'].str.split(' ', expand=True)\n",
    "\n",
    "# Save the modified DataFrame back to the Excel file\n",
    "df.to_excel('mySpreadsheet.xlsx', index=False)"
   ]
  }
 ],
 "metadata": {
  "kernelspec": {
   "display_name": "Python 3",
   "language": "python",
   "name": "python3"
  },
  "language_info": {
   "codemirror_mode": {
    "name": "ipython",
    "version": 3
   },
   "file_extension": ".py",
   "mimetype": "text/x-python",
   "name": "python",
   "nbconvert_exporter": "python",
   "pygments_lexer": "ipython3",
   "version": "3.12.2"
  }
 },
 "nbformat": 4,
 "nbformat_minor": 2
}
